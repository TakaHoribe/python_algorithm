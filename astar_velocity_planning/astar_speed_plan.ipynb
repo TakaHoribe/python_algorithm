{
 "cells": [
  {
   "cell_type": "code",
   "execution_count": null,
   "metadata": {},
   "outputs": [
    {
     "name": "stdout",
     "output_type": "stream",
     "text": [
      "> \u001b[0;32m<ipython-input-58-c1b15933fe4d>\u001b[0m(56)\u001b[0;36m<module>\u001b[0;34m()\u001b[0m\n",
      "\u001b[0;32m     54 \u001b[0;31m\u001b[0;34m\u001b[0m\u001b[0m\n",
      "\u001b[0m\u001b[0;32m     55 \u001b[0;31m\u001b[0;34m\u001b[0m\u001b[0m\n",
      "\u001b[0m\u001b[0;32m---> 56 \u001b[0;31m    \u001b[0;32mwhile\u001b[0m \u001b[0;34m(\u001b[0m\u001b[0;32mTrue\u001b[0m\u001b[0;34m)\u001b[0m\u001b[0;34m:\u001b[0m\u001b[0;34m\u001b[0m\u001b[0;34m\u001b[0m\u001b[0m\n",
      "\u001b[0m\u001b[0;32m     57 \u001b[0;31m\u001b[0;34m\u001b[0m\u001b[0m\n",
      "\u001b[0m\u001b[0;32m     58 \u001b[0;31m        \u001b[0;31m#Openリストが空になったら解なし\u001b[0m\u001b[0;34m\u001b[0m\u001b[0;34m\u001b[0m\u001b[0;34m\u001b[0m\u001b[0m\n",
      "\u001b[0m\n",
      "ipdb> open_list\n",
      "[<__main__.Node object at 0x7ff73c103f28>]\n"
     ]
    }
   ],
   "source": [
    "import numpy as np\n",
    "import matplotlib.pyplot as plt\n",
    "\n",
    "goal_t = 10\n",
    "goal_s = 20\n",
    "\n",
    "class Node:\n",
    "    \n",
    "    def __init__(self, t, s, v):\n",
    "        self.var = (t, s, v)\n",
    "        self.hs  = (s - goal_s)**2\n",
    "        self.gs  = 0\n",
    "        self.fs  = 0\n",
    "        self.parent_node = None\n",
    "\n",
    "    def isGoal(self):\n",
    "        # 速度か位置が最大値を超えたらgoal\n",
    "        return (self.var[0] >= goal_t) or self.var[1] >= goal_s\n",
    "    \n",
    "    \n",
    "    \n",
    "class NodeList(list):\n",
    "    def find(self, x,y):\n",
    "        l = [t for t in self if t.pos==(x,y)]\n",
    "        return l[0] if l != [] else None\n",
    "    def remove(self,node):\n",
    "        del self[self.index(node)]\n",
    "        \n",
    "\n",
    "def getRefV(s):\n",
    "    sarr = list(range(20))\n",
    "    varr = [2,2,2,1,1,1,1,3,3,3,3,2,2,2,1,1,3,3,3,3]\n",
    "    n = min(sarr, key=lambda x:abs(x-s))\n",
    "    return varr[n]\n",
    "\n",
    "def printNode(n):\n",
    "    plt.xlim([0, 11])\n",
    "    t = n.var[0]\n",
    "    s = n.var[1]\n",
    "    plt.scatter(t, s)\n",
    "    plt.grid()\n",
    "    plt.show()\n",
    "    \n",
    "\n",
    "if __name__ == '__main__':\n",
    "    \n",
    "    open_list     = NodeList()\n",
    "    close_list    = NodeList()\n",
    "    start_node    = Node(0, 0, 0) # t, s, v\n",
    "    start_node.fs = start_node.hs\n",
    "    open_list.append(start_node)\n",
    "    \n",
    "    \n",
    "    while (True):\n",
    "        \n",
    "        #Openリストが空になったら解なし\n",
    "        if open_list == []:\n",
    "            print(\"there is no open list\")\n",
    "            break\n",
    "        \n",
    "        #Openリストからf*が最少のノードnを取得\n",
    "        n = min(open_list, key=lambda x:x.fs)\n",
    "        open_list.remove(n)\n",
    "        close_list.append(n)\n",
    "        \n",
    "        printNode(n)\n",
    "        \n",
    "        #最小ノードがゴールだったら終了\n",
    "        if n.isGoal():\n",
    "            end_node = n\n",
    "            break\n",
    "            \n",
    "        #f*() = g*() + h*() -> g*() = f*() - h*()\n",
    "        n_gs = n.fs - n.hs\n",
    "    \n",
    "\n",
    "        # 前回速度：viから今の速度を計算\n",
    "        # 前回値 +- 1だけにする、v >= 0\n",
    "        vi = n.var[2]\n",
    "        for v in [vi-1, vi, vi+1]:\n",
    "            if (v >= 0):\n",
    "                t = ti + 1\n",
    "                s = si + v\n",
    "                m = open_list.find(t, s, v)\n",
    "                n_dgs = (getRefV(s) - v)**2\n",
    "                \n",
    "                if m:\n",
    "                    #移動先のノードがOpenリストに格納されていた場合、\n",
    "                    #より小さいf*ならばノードmのf*を更新し、親を書き換え\n",
    "                    if m.fs > (n_gs + n_dgs) + m.hs:\n",
    "                        m.fs = (n_gs + n_dgs) + m.hs\n",
    "                        m.parent_node = n\n",
    "                else:\n",
    "                    m = close_list.find(t, s, v)\n",
    "                    if m:\n",
    "                        #移動先のノードがCloseリストに格納されていた場合、\n",
    "                        #より小さいf*ならばノードmのf*を更新し、親を書き換え、かつ、Openリストに移動する\n",
    "                        if m.fs > (n_gs + n_dgs) + m.hs:\n",
    "                            m.fs = (n_gs + n_dgs) + m.hs\n",
    "                            m.parent_node = n\n",
    "                            open_list.append(m)\n",
    "                            close_list.remove(m)\n",
    "                        else:\n",
    "                            #新規ノードならばOpenリストにノードに追加\n",
    "                            m = Node(t, s, v)\n",
    "                            m.fs = (n_gs + n_dgs) + m.hs\n",
    "                            m.parent_node = n\n",
    "                            open_list.append(m)\n",
    "                \n",
    "\n",
    "\n",
    "\n"
   ]
  },
  {
   "cell_type": "code",
   "execution_count": 44,
   "metadata": {},
   "outputs": [
    {
     "name": "stdout",
     "output_type": "stream",
     "text": [
      "19\n"
     ]
    }
   ],
   "source": [
    "    sarr = list(range(0,20))\n",
    "    varr = [2,2,2,1,1,1,1,3,3,3,3,2,2,2,1,1,3,3,3]\n",
    "    \n",
    "    print(len(varr))\n",
    "#     print(varr.size)"
   ]
  },
  {
   "cell_type": "code",
   "execution_count": 54,
   "metadata": {},
   "outputs": [
    {
     "data": {
      "image/png": "[encoded data removed]",
      "text/plain": [
       "<Figure size 432x288 with 1 Axes>"
      ]
     },
     "metadata": {
      "needs_background": "light"
     },
     "output_type": "display_data"
    }
   ],
   "source": [
    "t = [0, 2]\n",
    "s = [1, 3]\n",
    "p = plt.scatter(t, s)\n",
    "\n",
    "plt.scatter(2, 5)\n",
    "\n",
    "plt.grid()"
   ]
  }
 ],
 "metadata": {
  "kernelspec": {
   "display_name": "Python 3",
   "language": "python",
   "name": "python3"
  },
  "language_info": {
   "codemirror_mode": {
    "name": "ipython",
    "version": 3
   },
   "file_extension": ".py",
   "mimetype": "text/x-python",
   "name": "python",
   "nbconvert_exporter": "python",
   "pygments_lexer": "ipython3",
   "version": "3.6.9"
  }
 },
 "nbformat": 4,
 "nbformat_minor": 2
}
